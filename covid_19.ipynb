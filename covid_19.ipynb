{
  "nbformat": 4,
  "nbformat_minor": 0,
  "metadata": {
    "colab": {
      "name": "covid-19.ipynb",
      "provenance": [],
      "collapsed_sections": [],
      "include_colab_link": true
    },
    "kernelspec": {
      "name": "python3",
      "display_name": "Python 3"
    },
    "language_info": {
      "name": "python"
    }
  },
  "cells": [
    {
      "cell_type": "markdown",
      "metadata": {
        "id": "view-in-github",
        "colab_type": "text"
      },
      "source": [
        "<a href=\"https://colab.research.google.com/github/Puisque/hackthon2021Summer/blob/main/covid_19.ipynb\" target=\"_parent\"><img src=\"https://colab.research.google.com/assets/colab-badge.svg\" alt=\"Open In Colab\"/></a>"
      ]
    },
    {
      "cell_type": "markdown",
      "metadata": {
        "id": "XtgKeG-m33et"
      },
      "source": [
        "https://pypi.org/project/covid19dh/"
      ]
    },
    {
      "cell_type": "markdown",
      "metadata": {
        "id": "VqIw8Qxt4Mn9"
      },
      "source": [
        "citation:\n",
        "Guidotti, E., Ardia, D., (2020), \"COVID-19 Data Hub\", Journal of Open Source Software 5(51):2376, doi: 10.21105/joss.02376.\n",
        "\n",
        "Full Credits to the pypi API for the entire project."
      ]
    },
    {
      "cell_type": "code",
      "metadata": {
        "colab": {
          "base_uri": "https://localhost:8080/"
        },
        "id": "o1JrBwM_30K6",
        "outputId": "57308e21-84cf-4794-b08d-cf5887d4475a"
      },
      "source": [
        "pip install covid19dh\n"
      ],
      "execution_count": 1,
      "outputs": [
        {
          "output_type": "stream",
          "text": [
            "Collecting covid19dh\n",
            "  Downloading covid19dh-2.3.0-py3-none-any.whl (9.4 kB)\n",
            "Requirement already satisfied: pandas in /usr/local/lib/python3.7/dist-packages (from covid19dh) (1.1.5)\n",
            "Requirement already satisfied: requests in /usr/local/lib/python3.7/dist-packages (from covid19dh) (2.23.0)\n",
            "Requirement already satisfied: numpy>=1.15.4 in /usr/local/lib/python3.7/dist-packages (from pandas->covid19dh) (1.19.5)\n",
            "Requirement already satisfied: python-dateutil>=2.7.3 in /usr/local/lib/python3.7/dist-packages (from pandas->covid19dh) (2.8.1)\n",
            "Requirement already satisfied: pytz>=2017.2 in /usr/local/lib/python3.7/dist-packages (from pandas->covid19dh) (2018.9)\n",
            "Requirement already satisfied: six>=1.5 in /usr/local/lib/python3.7/dist-packages (from python-dateutil>=2.7.3->pandas->covid19dh) (1.15.0)\n",
            "Requirement already satisfied: idna<3,>=2.5 in /usr/local/lib/python3.7/dist-packages (from requests->covid19dh) (2.10)\n",
            "Requirement already satisfied: certifi>=2017.4.17 in /usr/local/lib/python3.7/dist-packages (from requests->covid19dh) (2021.5.30)\n",
            "Requirement already satisfied: urllib3!=1.25.0,!=1.25.1,<1.26,>=1.21.1 in /usr/local/lib/python3.7/dist-packages (from requests->covid19dh) (1.24.3)\n",
            "Requirement already satisfied: chardet<4,>=3.0.2 in /usr/local/lib/python3.7/dist-packages (from requests->covid19dh) (3.0.4)\n",
            "Installing collected packages: covid19dh\n",
            "Successfully installed covid19dh-2.3.0\n"
          ],
          "name": "stdout"
        }
      ]
    },
    {
      "cell_type": "code",
      "metadata": {
        "colab": {
          "base_uri": "https://localhost:8080/"
        },
        "id": "dEPnJk7m39AI",
        "outputId": "b5add291-09b2-45d5-e665-385b5a6e24fd"
      },
      "source": [
        "from covid19dh import covid19\n",
        "x, src = covid19() "
      ],
      "execution_count": 2,
      "outputs": [
        {
          "output_type": "stream",
          "text": [
            "We have invested a lot of time and effort in creating COVID-19 Data Hub, please cite the following when using it:\n",
            "\n",
            "\t\u001b[1mGuidotti, E., Ardia, D., (2020), \"COVID-19 Data Hub\", Journal of Open Source Software 5(51):2376, doi: 10.21105/joss.02376.\u001b[0m\n",
            "\n",
            "A BibTeX entry for LaTeX users is\n",
            "\n",
            "\t@Article{,\n",
            "\t\ttitle = {COVID-19 Data Hub},\n",
            "\t\tyear = {2020},\n",
            "\t\tdoi = {10.21105/joss.02376},\n",
            "\t\tauthor = {Emanuele Guidotti and David Ardia},\n",
            "\t\tjournal = {Journal of Open Source Software},\n",
            "\t\tvolume = {5},\n",
            "\t\tnumber = {51},\n",
            "\t\tpages = {2376},\n",
            "\t}\n",
            "\n",
            "\u001b[33mTo hide this message use 'verbose = False'.\u001b[0m\n"
          ],
          "name": "stdout"
        }
      ]
    },
    {
      "cell_type": "code",
      "metadata": {
        "colab": {
          "base_uri": "https://localhost:8080/"
        },
        "id": "O7lJXUS84CcM",
        "outputId": "fd5baea0-70ff-4f1b-d3d2-47f36f620c81"
      },
      "source": [
        "pip install --upgrade covid19dh"
      ],
      "execution_count": 3,
      "outputs": [
        {
          "output_type": "stream",
          "text": [
            "Requirement already satisfied: covid19dh in /usr/local/lib/python3.7/dist-packages (2.3.0)\n",
            "Requirement already satisfied: requests in /usr/local/lib/python3.7/dist-packages (from covid19dh) (2.23.0)\n",
            "Requirement already satisfied: pandas in /usr/local/lib/python3.7/dist-packages (from covid19dh) (1.1.5)\n",
            "Requirement already satisfied: numpy>=1.15.4 in /usr/local/lib/python3.7/dist-packages (from pandas->covid19dh) (1.19.5)\n",
            "Requirement already satisfied: python-dateutil>=2.7.3 in /usr/local/lib/python3.7/dist-packages (from pandas->covid19dh) (2.8.1)\n",
            "Requirement already satisfied: pytz>=2017.2 in /usr/local/lib/python3.7/dist-packages (from pandas->covid19dh) (2018.9)\n",
            "Requirement already satisfied: six>=1.5 in /usr/local/lib/python3.7/dist-packages (from python-dateutil>=2.7.3->pandas->covid19dh) (1.15.0)\n",
            "Requirement already satisfied: certifi>=2017.4.17 in /usr/local/lib/python3.7/dist-packages (from requests->covid19dh) (2021.5.30)\n",
            "Requirement already satisfied: urllib3!=1.25.0,!=1.25.1,<1.26,>=1.21.1 in /usr/local/lib/python3.7/dist-packages (from requests->covid19dh) (1.24.3)\n",
            "Requirement already satisfied: idna<3,>=2.5 in /usr/local/lib/python3.7/dist-packages (from requests->covid19dh) (2.10)\n",
            "Requirement already satisfied: chardet<4,>=3.0.2 in /usr/local/lib/python3.7/dist-packages (from requests->covid19dh) (3.0.4)\n"
          ],
          "name": "stdout"
        }
      ]
    },
    {
      "cell_type": "code",
      "metadata": {
        "id": "wNUEZ7Bl4Kpa"
      },
      "source": [
        "#x, src = covid19(\"USA\") # Unites States"
      ],
      "execution_count": 4,
      "outputs": []
    },
    {
      "cell_type": "code",
      "metadata": {
        "colab": {
          "base_uri": "https://localhost:8080/"
        },
        "id": "12CNBbkG4pXG",
        "outputId": "3e89a259-4c9b-4ae4-8d3d-95e69b091e38"
      },
      "source": [
        "#should return the entire dataset\n",
        "x, src = covid19(raw = False)"
      ],
      "execution_count": 5,
      "outputs": [
        {
          "output_type": "stream",
          "text": [
            "We have invested a lot of time and effort in creating COVID-19 Data Hub, please cite the following when using it:\n",
            "\n",
            "\t\u001b[1mGuidotti, E., Ardia, D., (2020), \"COVID-19 Data Hub\", Journal of Open Source Software 5(51):2376, doi: 10.21105/joss.02376.\u001b[0m\n",
            "\n",
            "A BibTeX entry for LaTeX users is\n",
            "\n",
            "\t@Article{,\n",
            "\t\ttitle = {COVID-19 Data Hub},\n",
            "\t\tyear = {2020},\n",
            "\t\tdoi = {10.21105/joss.02376},\n",
            "\t\tauthor = {Emanuele Guidotti and David Ardia},\n",
            "\t\tjournal = {Journal of Open Source Software},\n",
            "\t\tvolume = {5},\n",
            "\t\tnumber = {51},\n",
            "\t\tpages = {2376},\n",
            "\t}\n",
            "\n",
            "\u001b[33mTo hide this message use 'verbose = False'.\u001b[0m\n"
          ],
          "name": "stdout"
        }
      ]
    },
    {
      "cell_type": "code",
      "metadata": {
        "colab": {
          "base_uri": "https://localhost:8080/"
        },
        "id": "EQyXlueB5BKa",
        "outputId": "ade54d0d-a3bc-45ed-e450-b96a6c8d9a98"
      },
      "source": [
        "from datetime import datetime\n",
        "x, src = covid19(start = datetime(2021,7,5), end = datetime(2021,8,4))"
      ],
      "execution_count": 6,
      "outputs": [
        {
          "output_type": "stream",
          "text": [
            "We have invested a lot of time and effort in creating COVID-19 Data Hub, please cite the following when using it:\n",
            "\n",
            "\t\u001b[1mGuidotti, E., Ardia, D., (2020), \"COVID-19 Data Hub\", Journal of Open Source Software 5(51):2376, doi: 10.21105/joss.02376.\u001b[0m\n",
            "\n",
            "A BibTeX entry for LaTeX users is\n",
            "\n",
            "\t@Article{,\n",
            "\t\ttitle = {COVID-19 Data Hub},\n",
            "\t\tyear = {2020},\n",
            "\t\tdoi = {10.21105/joss.02376},\n",
            "\t\tauthor = {Emanuele Guidotti and David Ardia},\n",
            "\t\tjournal = {Journal of Open Source Software},\n",
            "\t\tvolume = {5},\n",
            "\t\tnumber = {51},\n",
            "\t\tpages = {2376},\n",
            "\t}\n",
            "\n",
            "\u001b[33mTo hide this message use 'verbose = False'.\u001b[0m\n"
          ],
          "name": "stdout"
        }
      ]
    },
    {
      "cell_type": "code",
      "metadata": {
        "colab": {
          "base_uri": "https://localhost:8080/",
          "height": 609
        },
        "id": "wkVFAdKm5ZQj",
        "outputId": "ea135d9b-a27a-454c-9c36-acfcd5ffe0f7"
      },
      "source": [
        "x\n"
      ],
      "execution_count": 7,
      "outputs": [
        {
          "output_type": "execute_result",
          "data": {
            "text/html": [
              "<div>\n",
              "<style scoped>\n",
              "    .dataframe tbody tr th:only-of-type {\n",
              "        vertical-align: middle;\n",
              "    }\n",
              "\n",
              "    .dataframe tbody tr th {\n",
              "        vertical-align: top;\n",
              "    }\n",
              "\n",
              "    .dataframe thead th {\n",
              "        text-align: right;\n",
              "    }\n",
              "</style>\n",
              "<table border=\"1\" class=\"dataframe\">\n",
              "  <thead>\n",
              "    <tr style=\"text-align: right;\">\n",
              "      <th></th>\n",
              "      <th>id</th>\n",
              "      <th>date</th>\n",
              "      <th>vaccines</th>\n",
              "      <th>tests</th>\n",
              "      <th>confirmed</th>\n",
              "      <th>recovered</th>\n",
              "      <th>deaths</th>\n",
              "      <th>hosp</th>\n",
              "      <th>vent</th>\n",
              "      <th>icu</th>\n",
              "      <th>population</th>\n",
              "      <th>school_closing</th>\n",
              "      <th>workplace_closing</th>\n",
              "      <th>cancel_events</th>\n",
              "      <th>gatherings_restrictions</th>\n",
              "      <th>transport_closing</th>\n",
              "      <th>stay_home_restrictions</th>\n",
              "      <th>internal_movement_restrictions</th>\n",
              "      <th>international_movement_restrictions</th>\n",
              "      <th>information_campaigns</th>\n",
              "      <th>testing_policy</th>\n",
              "      <th>contact_tracing</th>\n",
              "      <th>stringency_index</th>\n",
              "      <th>iso_alpha_3</th>\n",
              "      <th>iso_alpha_2</th>\n",
              "      <th>iso_numeric</th>\n",
              "      <th>currency</th>\n",
              "      <th>administrative_area_level</th>\n",
              "      <th>administrative_area_level_1</th>\n",
              "      <th>administrative_area_level_2</th>\n",
              "      <th>administrative_area_level_3</th>\n",
              "      <th>latitude</th>\n",
              "      <th>longitude</th>\n",
              "      <th>key</th>\n",
              "      <th>key_apple_mobility</th>\n",
              "      <th>key_google_mobility</th>\n",
              "    </tr>\n",
              "  </thead>\n",
              "  <tbody>\n",
              "    <tr>\n",
              "      <th>530</th>\n",
              "      <td>AFG</td>\n",
              "      <td>2021-07-05</td>\n",
              "      <td>915671.0</td>\n",
              "      <td>NaN</td>\n",
              "      <td>125937.0</td>\n",
              "      <td>75314.0</td>\n",
              "      <td>5283.0</td>\n",
              "      <td>NaN</td>\n",
              "      <td>NaN</td>\n",
              "      <td>NaN</td>\n",
              "      <td>37172386</td>\n",
              "      <td>3.0</td>\n",
              "      <td>2.0</td>\n",
              "      <td>2.0</td>\n",
              "      <td>0.0</td>\n",
              "      <td>0.0</td>\n",
              "      <td>0.0</td>\n",
              "      <td>1.0</td>\n",
              "      <td>2.0</td>\n",
              "      <td>1.0</td>\n",
              "      <td>1.0</td>\n",
              "      <td>0.0</td>\n",
              "      <td>46.30</td>\n",
              "      <td>AFG</td>\n",
              "      <td>AF</td>\n",
              "      <td>4.0</td>\n",
              "      <td>AFN</td>\n",
              "      <td>1</td>\n",
              "      <td>Afghanistan</td>\n",
              "      <td>NaN</td>\n",
              "      <td>NaN</td>\n",
              "      <td>33.0</td>\n",
              "      <td>65.0</td>\n",
              "      <td>NaN</td>\n",
              "      <td>NaN</td>\n",
              "      <td>AF</td>\n",
              "    </tr>\n",
              "    <tr>\n",
              "      <th>531</th>\n",
              "      <td>AFG</td>\n",
              "      <td>2021-07-06</td>\n",
              "      <td>NaN</td>\n",
              "      <td>NaN</td>\n",
              "      <td>127464.0</td>\n",
              "      <td>76218.0</td>\n",
              "      <td>5360.0</td>\n",
              "      <td>NaN</td>\n",
              "      <td>NaN</td>\n",
              "      <td>NaN</td>\n",
              "      <td>37172386</td>\n",
              "      <td>3.0</td>\n",
              "      <td>2.0</td>\n",
              "      <td>2.0</td>\n",
              "      <td>4.0</td>\n",
              "      <td>0.0</td>\n",
              "      <td>0.0</td>\n",
              "      <td>1.0</td>\n",
              "      <td>2.0</td>\n",
              "      <td>1.0</td>\n",
              "      <td>1.0</td>\n",
              "      <td>0.0</td>\n",
              "      <td>56.02</td>\n",
              "      <td>AFG</td>\n",
              "      <td>AF</td>\n",
              "      <td>4.0</td>\n",
              "      <td>AFN</td>\n",
              "      <td>1</td>\n",
              "      <td>Afghanistan</td>\n",
              "      <td>NaN</td>\n",
              "      <td>NaN</td>\n",
              "      <td>33.0</td>\n",
              "      <td>65.0</td>\n",
              "      <td>NaN</td>\n",
              "      <td>NaN</td>\n",
              "      <td>AF</td>\n",
              "    </tr>\n",
              "    <tr>\n",
              "      <th>532</th>\n",
              "      <td>AFG</td>\n",
              "      <td>2021-07-07</td>\n",
              "      <td>934463.0</td>\n",
              "      <td>NaN</td>\n",
              "      <td>129021.0</td>\n",
              "      <td>77280.0</td>\n",
              "      <td>5415.0</td>\n",
              "      <td>NaN</td>\n",
              "      <td>NaN</td>\n",
              "      <td>NaN</td>\n",
              "      <td>37172386</td>\n",
              "      <td>3.0</td>\n",
              "      <td>2.0</td>\n",
              "      <td>2.0</td>\n",
              "      <td>4.0</td>\n",
              "      <td>0.0</td>\n",
              "      <td>0.0</td>\n",
              "      <td>1.0</td>\n",
              "      <td>2.0</td>\n",
              "      <td>1.0</td>\n",
              "      <td>1.0</td>\n",
              "      <td>0.0</td>\n",
              "      <td>56.02</td>\n",
              "      <td>AFG</td>\n",
              "      <td>AF</td>\n",
              "      <td>4.0</td>\n",
              "      <td>AFN</td>\n",
              "      <td>1</td>\n",
              "      <td>Afghanistan</td>\n",
              "      <td>NaN</td>\n",
              "      <td>NaN</td>\n",
              "      <td>33.0</td>\n",
              "      <td>65.0</td>\n",
              "      <td>NaN</td>\n",
              "      <td>NaN</td>\n",
              "      <td>AF</td>\n",
              "    </tr>\n",
              "    <tr>\n",
              "      <th>533</th>\n",
              "      <td>AFG</td>\n",
              "      <td>2021-07-08</td>\n",
              "      <td>NaN</td>\n",
              "      <td>NaN</td>\n",
              "      <td>130113.0</td>\n",
              "      <td>78521.0</td>\n",
              "      <td>5477.0</td>\n",
              "      <td>NaN</td>\n",
              "      <td>NaN</td>\n",
              "      <td>NaN</td>\n",
              "      <td>37172386</td>\n",
              "      <td>3.0</td>\n",
              "      <td>2.0</td>\n",
              "      <td>2.0</td>\n",
              "      <td>4.0</td>\n",
              "      <td>0.0</td>\n",
              "      <td>0.0</td>\n",
              "      <td>1.0</td>\n",
              "      <td>2.0</td>\n",
              "      <td>1.0</td>\n",
              "      <td>1.0</td>\n",
              "      <td>0.0</td>\n",
              "      <td>56.02</td>\n",
              "      <td>AFG</td>\n",
              "      <td>AF</td>\n",
              "      <td>4.0</td>\n",
              "      <td>AFN</td>\n",
              "      <td>1</td>\n",
              "      <td>Afghanistan</td>\n",
              "      <td>NaN</td>\n",
              "      <td>NaN</td>\n",
              "      <td>33.0</td>\n",
              "      <td>65.0</td>\n",
              "      <td>NaN</td>\n",
              "      <td>NaN</td>\n",
              "      <td>AF</td>\n",
              "    </tr>\n",
              "    <tr>\n",
              "      <th>534</th>\n",
              "      <td>AFG</td>\n",
              "      <td>2021-07-09</td>\n",
              "      <td>NaN</td>\n",
              "      <td>NaN</td>\n",
              "      <td>131586.0</td>\n",
              "      <td>79446.0</td>\n",
              "      <td>5561.0</td>\n",
              "      <td>NaN</td>\n",
              "      <td>NaN</td>\n",
              "      <td>NaN</td>\n",
              "      <td>37172386</td>\n",
              "      <td>3.0</td>\n",
              "      <td>2.0</td>\n",
              "      <td>2.0</td>\n",
              "      <td>4.0</td>\n",
              "      <td>0.0</td>\n",
              "      <td>0.0</td>\n",
              "      <td>1.0</td>\n",
              "      <td>2.0</td>\n",
              "      <td>1.0</td>\n",
              "      <td>1.0</td>\n",
              "      <td>0.0</td>\n",
              "      <td>56.02</td>\n",
              "      <td>AFG</td>\n",
              "      <td>AF</td>\n",
              "      <td>4.0</td>\n",
              "      <td>AFN</td>\n",
              "      <td>1</td>\n",
              "      <td>Afghanistan</td>\n",
              "      <td>NaN</td>\n",
              "      <td>NaN</td>\n",
              "      <td>33.0</td>\n",
              "      <td>65.0</td>\n",
              "      <td>NaN</td>\n",
              "      <td>NaN</td>\n",
              "      <td>AF</td>\n",
              "    </tr>\n",
              "    <tr>\n",
              "      <th>...</th>\n",
              "      <td>...</td>\n",
              "      <td>...</td>\n",
              "      <td>...</td>\n",
              "      <td>...</td>\n",
              "      <td>...</td>\n",
              "      <td>...</td>\n",
              "      <td>...</td>\n",
              "      <td>...</td>\n",
              "      <td>...</td>\n",
              "      <td>...</td>\n",
              "      <td>...</td>\n",
              "      <td>...</td>\n",
              "      <td>...</td>\n",
              "      <td>...</td>\n",
              "      <td>...</td>\n",
              "      <td>...</td>\n",
              "      <td>...</td>\n",
              "      <td>...</td>\n",
              "      <td>...</td>\n",
              "      <td>...</td>\n",
              "      <td>...</td>\n",
              "      <td>...</td>\n",
              "      <td>...</td>\n",
              "      <td>...</td>\n",
              "      <td>...</td>\n",
              "      <td>...</td>\n",
              "      <td>...</td>\n",
              "      <td>...</td>\n",
              "      <td>...</td>\n",
              "      <td>...</td>\n",
              "      <td>...</td>\n",
              "      <td>...</td>\n",
              "      <td>...</td>\n",
              "      <td>...</td>\n",
              "      <td>...</td>\n",
              "      <td>...</td>\n",
              "    </tr>\n",
              "    <tr>\n",
              "      <th>113152</th>\n",
              "      <td>ZWE</td>\n",
              "      <td>2021-07-31</td>\n",
              "      <td>2413509.0</td>\n",
              "      <td>964353.0</td>\n",
              "      <td>108860.0</td>\n",
              "      <td>75856.0</td>\n",
              "      <td>3532.0</td>\n",
              "      <td>NaN</td>\n",
              "      <td>NaN</td>\n",
              "      <td>NaN</td>\n",
              "      <td>14439018</td>\n",
              "      <td>0.0</td>\n",
              "      <td>2.0</td>\n",
              "      <td>2.0</td>\n",
              "      <td>3.0</td>\n",
              "      <td>0.0</td>\n",
              "      <td>2.0</td>\n",
              "      <td>2.0</td>\n",
              "      <td>2.0</td>\n",
              "      <td>2.0</td>\n",
              "      <td>3.0</td>\n",
              "      <td>0.0</td>\n",
              "      <td>62.04</td>\n",
              "      <td>ZWE</td>\n",
              "      <td>ZW</td>\n",
              "      <td>716.0</td>\n",
              "      <td>ZWD</td>\n",
              "      <td>1</td>\n",
              "      <td>Zimbabwe</td>\n",
              "      <td>NaN</td>\n",
              "      <td>NaN</td>\n",
              "      <td>-20.0</td>\n",
              "      <td>30.0</td>\n",
              "      <td>NaN</td>\n",
              "      <td>NaN</td>\n",
              "      <td>ZW</td>\n",
              "    </tr>\n",
              "    <tr>\n",
              "      <th>113153</th>\n",
              "      <td>ZWE</td>\n",
              "      <td>2021-08-01</td>\n",
              "      <td>2433341.0</td>\n",
              "      <td>967476.0</td>\n",
              "      <td>109546.0</td>\n",
              "      <td>76665.0</td>\n",
              "      <td>3583.0</td>\n",
              "      <td>NaN</td>\n",
              "      <td>NaN</td>\n",
              "      <td>NaN</td>\n",
              "      <td>14439018</td>\n",
              "      <td>0.0</td>\n",
              "      <td>2.0</td>\n",
              "      <td>2.0</td>\n",
              "      <td>3.0</td>\n",
              "      <td>0.0</td>\n",
              "      <td>2.0</td>\n",
              "      <td>2.0</td>\n",
              "      <td>2.0</td>\n",
              "      <td>2.0</td>\n",
              "      <td>3.0</td>\n",
              "      <td>0.0</td>\n",
              "      <td>62.04</td>\n",
              "      <td>ZWE</td>\n",
              "      <td>ZW</td>\n",
              "      <td>716.0</td>\n",
              "      <td>ZWD</td>\n",
              "      <td>1</td>\n",
              "      <td>Zimbabwe</td>\n",
              "      <td>NaN</td>\n",
              "      <td>NaN</td>\n",
              "      <td>-20.0</td>\n",
              "      <td>30.0</td>\n",
              "      <td>NaN</td>\n",
              "      <td>NaN</td>\n",
              "      <td>ZW</td>\n",
              "    </tr>\n",
              "    <tr>\n",
              "      <th>113154</th>\n",
              "      <td>ZWE</td>\n",
              "      <td>2021-08-02</td>\n",
              "      <td>2473590.0</td>\n",
              "      <td>972762.0</td>\n",
              "      <td>110855.0</td>\n",
              "      <td>79420.0</td>\n",
              "      <td>3635.0</td>\n",
              "      <td>NaN</td>\n",
              "      <td>NaN</td>\n",
              "      <td>NaN</td>\n",
              "      <td>14439018</td>\n",
              "      <td>0.0</td>\n",
              "      <td>2.0</td>\n",
              "      <td>2.0</td>\n",
              "      <td>3.0</td>\n",
              "      <td>0.0</td>\n",
              "      <td>2.0</td>\n",
              "      <td>2.0</td>\n",
              "      <td>2.0</td>\n",
              "      <td>2.0</td>\n",
              "      <td>3.0</td>\n",
              "      <td>0.0</td>\n",
              "      <td>62.04</td>\n",
              "      <td>ZWE</td>\n",
              "      <td>ZW</td>\n",
              "      <td>716.0</td>\n",
              "      <td>ZWD</td>\n",
              "      <td>1</td>\n",
              "      <td>Zimbabwe</td>\n",
              "      <td>NaN</td>\n",
              "      <td>NaN</td>\n",
              "      <td>-20.0</td>\n",
              "      <td>30.0</td>\n",
              "      <td>NaN</td>\n",
              "      <td>NaN</td>\n",
              "      <td>ZW</td>\n",
              "    </tr>\n",
              "    <tr>\n",
              "      <th>113155</th>\n",
              "      <td>ZWE</td>\n",
              "      <td>2021-08-03</td>\n",
              "      <td>2540555.0</td>\n",
              "      <td>983764.0</td>\n",
              "      <td>112435.0</td>\n",
              "      <td>81570.0</td>\n",
              "      <td>3676.0</td>\n",
              "      <td>NaN</td>\n",
              "      <td>NaN</td>\n",
              "      <td>NaN</td>\n",
              "      <td>14439018</td>\n",
              "      <td>NaN</td>\n",
              "      <td>NaN</td>\n",
              "      <td>NaN</td>\n",
              "      <td>NaN</td>\n",
              "      <td>NaN</td>\n",
              "      <td>NaN</td>\n",
              "      <td>NaN</td>\n",
              "      <td>NaN</td>\n",
              "      <td>NaN</td>\n",
              "      <td>NaN</td>\n",
              "      <td>NaN</td>\n",
              "      <td>62.04</td>\n",
              "      <td>ZWE</td>\n",
              "      <td>ZW</td>\n",
              "      <td>716.0</td>\n",
              "      <td>ZWD</td>\n",
              "      <td>1</td>\n",
              "      <td>Zimbabwe</td>\n",
              "      <td>NaN</td>\n",
              "      <td>NaN</td>\n",
              "      <td>-20.0</td>\n",
              "      <td>30.0</td>\n",
              "      <td>NaN</td>\n",
              "      <td>NaN</td>\n",
              "      <td>ZW</td>\n",
              "    </tr>\n",
              "    <tr>\n",
              "      <th>113156</th>\n",
              "      <td>ZWE</td>\n",
              "      <td>2021-08-04</td>\n",
              "      <td>2604265.0</td>\n",
              "      <td>992643.0</td>\n",
              "      <td>113526.0</td>\n",
              "      <td>82994.0</td>\n",
              "      <td>3711.0</td>\n",
              "      <td>NaN</td>\n",
              "      <td>NaN</td>\n",
              "      <td>NaN</td>\n",
              "      <td>14439018</td>\n",
              "      <td>NaN</td>\n",
              "      <td>NaN</td>\n",
              "      <td>NaN</td>\n",
              "      <td>NaN</td>\n",
              "      <td>NaN</td>\n",
              "      <td>NaN</td>\n",
              "      <td>NaN</td>\n",
              "      <td>NaN</td>\n",
              "      <td>NaN</td>\n",
              "      <td>NaN</td>\n",
              "      <td>NaN</td>\n",
              "      <td>62.04</td>\n",
              "      <td>ZWE</td>\n",
              "      <td>ZW</td>\n",
              "      <td>716.0</td>\n",
              "      <td>ZWD</td>\n",
              "      <td>1</td>\n",
              "      <td>Zimbabwe</td>\n",
              "      <td>NaN</td>\n",
              "      <td>NaN</td>\n",
              "      <td>-20.0</td>\n",
              "      <td>30.0</td>\n",
              "      <td>NaN</td>\n",
              "      <td>NaN</td>\n",
              "      <td>ZW</td>\n",
              "    </tr>\n",
              "  </tbody>\n",
              "</table>\n",
              "<p>6231 rows × 36 columns</p>\n",
              "</div>"
            ],
            "text/plain": [
              "         id       date   vaccines  ...  key  key_apple_mobility  key_google_mobility\n",
              "530     AFG 2021-07-05   915671.0  ...  NaN                 NaN                   AF\n",
              "531     AFG 2021-07-06        NaN  ...  NaN                 NaN                   AF\n",
              "532     AFG 2021-07-07   934463.0  ...  NaN                 NaN                   AF\n",
              "533     AFG 2021-07-08        NaN  ...  NaN                 NaN                   AF\n",
              "534     AFG 2021-07-09        NaN  ...  NaN                 NaN                   AF\n",
              "...     ...        ...        ...  ...  ...                 ...                  ...\n",
              "113152  ZWE 2021-07-31  2413509.0  ...  NaN                 NaN                   ZW\n",
              "113153  ZWE 2021-08-01  2433341.0  ...  NaN                 NaN                   ZW\n",
              "113154  ZWE 2021-08-02  2473590.0  ...  NaN                 NaN                   ZW\n",
              "113155  ZWE 2021-08-03  2540555.0  ...  NaN                 NaN                   ZW\n",
              "113156  ZWE 2021-08-04  2604265.0  ...  NaN                 NaN                   ZW\n",
              "\n",
              "[6231 rows x 36 columns]"
            ]
          },
          "metadata": {
            "tags": []
          },
          "execution_count": 7
        }
      ]
    },
    {
      "cell_type": "code",
      "metadata": {
        "id": "GbeL2x-t5oK_",
        "colab": {
          "base_uri": "https://localhost:8080/"
        },
        "outputId": "774db5ee-4a07-4128-dfa6-0b3ae7c9e665"
      },
      "source": [
        "type(x)"
      ],
      "execution_count": 8,
      "outputs": [
        {
          "output_type": "execute_result",
          "data": {
            "text/plain": [
              "pandas.core.frame.DataFrame"
            ]
          },
          "metadata": {
            "tags": []
          },
          "execution_count": 8
        }
      ]
    },
    {
      "cell_type": "code",
      "metadata": {
        "id": "R3z3yWY79M9o"
      },
      "source": [
        "import pandas as pd"
      ],
      "execution_count": 9,
      "outputs": []
    },
    {
      "cell_type": "code",
      "metadata": {
        "id": "9lAVM_7uJNB1"
      },
      "source": [
        "# create excel writer object\n",
        "writer = pd.ExcelWriter('covidDataOutput.xlsx')"
      ],
      "execution_count": 10,
      "outputs": []
    },
    {
      "cell_type": "code",
      "metadata": {
        "id": "ORDB82eyJVx_"
      },
      "source": [
        "# write dataframe to excel\n",
        "x.to_excel(writer)"
      ],
      "execution_count": 11,
      "outputs": []
    },
    {
      "cell_type": "code",
      "metadata": {
        "id": "8kbqe2TJJYdF"
      },
      "source": [
        "writer.save()"
      ],
      "execution_count": 12,
      "outputs": []
    },
    {
      "cell_type": "code",
      "metadata": {
        "id": "of_QmSchJfuH"
      },
      "source": [
        ""
      ],
      "execution_count": 12,
      "outputs": []
    }
  ]
}